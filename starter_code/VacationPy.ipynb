{
 "cells": [
  {
   "cell_type": "markdown",
   "metadata": {},
   "source": [
    "# VacationPy\n",
    "----\n",
    "\n",
    "#### Note\n",
    "* Keep an eye on your API usage. Use https://developers.google.com/maps/reporting/gmp-reporting as reference for how to monitor your usage and billing.\n",
    "\n",
    "* Instructions have been included for each segment. You do not have to follow them exactly, but they are included to help you think through the steps."
   ]
  },
  {
   "cell_type": "code",
   "execution_count": 1,
   "metadata": {},
   "outputs": [],
   "source": [
    "# Dependencies and Setup\n",
    "import matplotlib.pyplot as plt\n",
    "import pandas as pd\n",
    "import numpy as np\n",
    "import requests\n",
    "import gmaps\n",
    "import os\n",
    "import json\n",
    "\n",
    "# Import API key\n",
    "from api_keys import g_key"
   ]
  },
  {
   "cell_type": "markdown",
   "metadata": {},
   "source": [
    "### Store Part I results into DataFrame\n",
    "* Load the csv exported in Part I to a DataFrame"
   ]
  },
  {
   "cell_type": "code",
   "execution_count": 2,
   "metadata": {},
   "outputs": [
    {
     "data": {
      "text/html": [
       "<div>\n",
       "<style scoped>\n",
       "    .dataframe tbody tr th:only-of-type {\n",
       "        vertical-align: middle;\n",
       "    }\n",
       "\n",
       "    .dataframe tbody tr th {\n",
       "        vertical-align: top;\n",
       "    }\n",
       "\n",
       "    .dataframe thead th {\n",
       "        text-align: right;\n",
       "    }\n",
       "</style>\n",
       "<table border=\"1\" class=\"dataframe\">\n",
       "  <thead>\n",
       "    <tr style=\"text-align: right;\">\n",
       "      <th></th>\n",
       "      <th>City</th>\n",
       "      <th>Cloudiness</th>\n",
       "      <th>Country</th>\n",
       "      <th>Date</th>\n",
       "      <th>Humidity</th>\n",
       "      <th>Lat</th>\n",
       "      <th>Lng</th>\n",
       "      <th>Max Temp</th>\n",
       "      <th>Wind Speed</th>\n",
       "    </tr>\n",
       "  </thead>\n",
       "  <tbody>\n",
       "    <tr>\n",
       "      <th>0</th>\n",
       "      <td>Leningradskiy</td>\n",
       "      <td>3</td>\n",
       "      <td>RU</td>\n",
       "      <td>1612987269</td>\n",
       "      <td>83</td>\n",
       "      <td>69.3833</td>\n",
       "      <td>178.4167</td>\n",
       "      <td>239.41</td>\n",
       "      <td>4.43</td>\n",
       "    </tr>\n",
       "    <tr>\n",
       "      <th>1</th>\n",
       "      <td>Severo-Kuril'sk</td>\n",
       "      <td>100</td>\n",
       "      <td>RU</td>\n",
       "      <td>1612987270</td>\n",
       "      <td>87</td>\n",
       "      <td>50.6789</td>\n",
       "      <td>156.1250</td>\n",
       "      <td>269.61</td>\n",
       "      <td>1.98</td>\n",
       "    </tr>\n",
       "    <tr>\n",
       "      <th>2</th>\n",
       "      <td>Kapaa</td>\n",
       "      <td>40</td>\n",
       "      <td>US</td>\n",
       "      <td>1612987075</td>\n",
       "      <td>49</td>\n",
       "      <td>22.0752</td>\n",
       "      <td>-159.3190</td>\n",
       "      <td>296.15</td>\n",
       "      <td>6.69</td>\n",
       "    </tr>\n",
       "    <tr>\n",
       "      <th>3</th>\n",
       "      <td>Atuona</td>\n",
       "      <td>1</td>\n",
       "      <td>PF</td>\n",
       "      <td>1612987273</td>\n",
       "      <td>77</td>\n",
       "      <td>-9.8000</td>\n",
       "      <td>-139.0333</td>\n",
       "      <td>299.26</td>\n",
       "      <td>8.33</td>\n",
       "    </tr>\n",
       "    <tr>\n",
       "      <th>4</th>\n",
       "      <td>Barrow</td>\n",
       "      <td>1</td>\n",
       "      <td>US</td>\n",
       "      <td>1612987274</td>\n",
       "      <td>68</td>\n",
       "      <td>71.2906</td>\n",
       "      <td>-156.7887</td>\n",
       "      <td>241.15</td>\n",
       "      <td>4.63</td>\n",
       "    </tr>\n",
       "    <tr>\n",
       "      <th>5</th>\n",
       "      <td>Marapanim</td>\n",
       "      <td>100</td>\n",
       "      <td>BR</td>\n",
       "      <td>1612987275</td>\n",
       "      <td>91</td>\n",
       "      <td>-0.7175</td>\n",
       "      <td>-47.6997</td>\n",
       "      <td>299.48</td>\n",
       "      <td>2.10</td>\n",
       "    </tr>\n",
       "    <tr>\n",
       "      <th>6</th>\n",
       "      <td>Hobart</td>\n",
       "      <td>0</td>\n",
       "      <td>AU</td>\n",
       "      <td>1612987103</td>\n",
       "      <td>82</td>\n",
       "      <td>-42.8794</td>\n",
       "      <td>147.3294</td>\n",
       "      <td>285.15</td>\n",
       "      <td>4.12</td>\n",
       "    </tr>\n",
       "    <tr>\n",
       "      <th>7</th>\n",
       "      <td>Jamestown</td>\n",
       "      <td>1</td>\n",
       "      <td>US</td>\n",
       "      <td>1612987040</td>\n",
       "      <td>58</td>\n",
       "      <td>42.0970</td>\n",
       "      <td>-79.2353</td>\n",
       "      <td>269.26</td>\n",
       "      <td>1.54</td>\n",
       "    </tr>\n",
       "    <tr>\n",
       "      <th>8</th>\n",
       "      <td>Puerto Ayora</td>\n",
       "      <td>75</td>\n",
       "      <td>EC</td>\n",
       "      <td>1612987085</td>\n",
       "      <td>83</td>\n",
       "      <td>-0.7393</td>\n",
       "      <td>-90.3518</td>\n",
       "      <td>300.15</td>\n",
       "      <td>1.54</td>\n",
       "    </tr>\n",
       "    <tr>\n",
       "      <th>9</th>\n",
       "      <td>Punta Arenas</td>\n",
       "      <td>0</td>\n",
       "      <td>CL</td>\n",
       "      <td>1612987083</td>\n",
       "      <td>55</td>\n",
       "      <td>-53.1500</td>\n",
       "      <td>-70.9167</td>\n",
       "      <td>292.15</td>\n",
       "      <td>4.63</td>\n",
       "    </tr>\n",
       "  </tbody>\n",
       "</table>\n",
       "</div>"
      ],
      "text/plain": [
       "              City  Cloudiness Country        Date  Humidity      Lat  \\\n",
       "0    Leningradskiy           3      RU  1612987269        83  69.3833   \n",
       "1  Severo-Kuril'sk         100      RU  1612987270        87  50.6789   \n",
       "2            Kapaa          40      US  1612987075        49  22.0752   \n",
       "3           Atuona           1      PF  1612987273        77  -9.8000   \n",
       "4           Barrow           1      US  1612987274        68  71.2906   \n",
       "5        Marapanim         100      BR  1612987275        91  -0.7175   \n",
       "6           Hobart           0      AU  1612987103        82 -42.8794   \n",
       "7        Jamestown           1      US  1612987040        58  42.0970   \n",
       "8     Puerto Ayora          75      EC  1612987085        83  -0.7393   \n",
       "9     Punta Arenas           0      CL  1612987083        55 -53.1500   \n",
       "\n",
       "        Lng  Max Temp  Wind Speed  \n",
       "0  178.4167    239.41        4.43  \n",
       "1  156.1250    269.61        1.98  \n",
       "2 -159.3190    296.15        6.69  \n",
       "3 -139.0333    299.26        8.33  \n",
       "4 -156.7887    241.15        4.63  \n",
       "5  -47.6997    299.48        2.10  \n",
       "6  147.3294    285.15        4.12  \n",
       "7  -79.2353    269.26        1.54  \n",
       "8  -90.3518    300.15        1.54  \n",
       "9  -70.9167    292.15        4.63  "
      ]
     },
     "execution_count": 2,
     "metadata": {},
     "output_type": "execute_result"
    }
   ],
   "source": [
    "\n",
    "\n",
    "# Loan CSV file generated from WeatherPy Folder\n",
    "weather_data_baby = \"cities.csv\"\n",
    "weather_deez = pd.read_csv(weather_data_baby)\n",
    "dropna_weather_deez = weather_deez.dropna()\n",
    "del dropna_weather_deez[\"Unnamed: 0\"]\n",
    "dropna_weather_deez.head(10)"
   ]
  },
  {
   "cell_type": "markdown",
   "metadata": {},
   "source": [
    "### Humidity Heatmap\n",
    "* Configure gmaps.\n",
    "* Use the Lat and Lng as locations and Humidity as the weight.\n",
    "* Add Heatmap layer to map."
   ]
  },
  {
   "cell_type": "code",
   "execution_count": 3,
   "metadata": {},
   "outputs": [],
   "source": [
    "gmaps.configure(api_key=g_key)\n",
    "\n",
    "# Locations\n",
    "locations = dropna_weather_deez[[\"Lat\", \"Lng\"]]\n",
    "\n",
    "humidity = dropna_weather_deez[\"Humidity\"].astype(float)"
   ]
  },
  {
   "cell_type": "code",
   "execution_count": 4,
   "metadata": {},
   "outputs": [
    {
     "data": {
      "application/vnd.jupyter.widget-view+json": {
       "model_id": "f8d9a0e6a12f403a8d9047a9996b23d1",
       "version_major": 2,
       "version_minor": 0
      },
      "text/plain": [
       "Figure(layout=FigureLayout(height='420px'))"
      ]
     },
     "metadata": {},
     "output_type": "display_data"
    }
   ],
   "source": [
    "figdata = gmaps.figure(center = [0,0] ,zoom_level = 2)\n",
    "\n",
    "#Create and add heat layer \n",
    "heat_layer = gmaps.heatmap_layer(locations, weights=humidity,\n",
    "                                 dissipating=False, max_intensity=100,\n",
    "                                 point_radius = 4)\n",
    "\n",
    "figdata.add_layer(heat_layer)\n",
    "\n",
    "#Display figure\n",
    "\n",
    "figdata\n",
    "\n"
   ]
  },
  {
   "cell_type": "markdown",
   "metadata": {},
   "source": [
    "### Create new DataFrame fitting weather criteria\n",
    "* Narrow down the cities to fit weather conditions.\n",
    "* Drop any rows will null values."
   ]
  },
  {
   "cell_type": "code",
   "execution_count": 5,
   "metadata": {},
   "outputs": [
    {
     "data": {
      "text/html": [
       "<div>\n",
       "<style scoped>\n",
       "    .dataframe tbody tr th:only-of-type {\n",
       "        vertical-align: middle;\n",
       "    }\n",
       "\n",
       "    .dataframe tbody tr th {\n",
       "        vertical-align: top;\n",
       "    }\n",
       "\n",
       "    .dataframe thead th {\n",
       "        text-align: right;\n",
       "    }\n",
       "</style>\n",
       "<table border=\"1\" class=\"dataframe\">\n",
       "  <thead>\n",
       "    <tr style=\"text-align: right;\">\n",
       "      <th></th>\n",
       "      <th>City</th>\n",
       "      <th>Cloudiness</th>\n",
       "      <th>Country</th>\n",
       "      <th>Date</th>\n",
       "      <th>Humidity</th>\n",
       "      <th>Lat</th>\n",
       "      <th>Lng</th>\n",
       "      <th>Max Temp</th>\n",
       "      <th>Wind Speed</th>\n",
       "    </tr>\n",
       "  </thead>\n",
       "  <tbody>\n",
       "  </tbody>\n",
       "</table>\n",
       "</div>"
      ],
      "text/plain": [
       "Empty DataFrame\n",
       "Columns: [City, Cloudiness, Country, Date, Humidity, Lat, Lng, Max Temp, Wind Speed]\n",
       "Index: []"
      ]
     },
     "execution_count": 5,
     "metadata": {},
     "output_type": "execute_result"
    }
   ],
   "source": [
    "# Filter vacation with zero cloudiness\n",
    "hotspot_no_cloud = dropna_weather_deez[dropna_weather_deez[\"Cloudiness\"] == 0]\n",
    "# Filter vacation with max temp above 70 degrees F\n",
    "hotspot_above_70_degrees = hotspot_no_cloud[hotspot_no_cloud[\"Max Temp\"] > 70]\n",
    "# Filter vacation with max temp below 80 degrees F\n",
    "hotspot_below_80_degrees = hotspot_above_70_degrees[hotspot_above_70_degrees[\"Max Temp\"] < 80]\n",
    "# Filter vacation with wind speed below 10 mph\n",
    "hotspot_slow_wind = hotspot_below_80_degrees[hotspot_below_80_degrees[\"Wind Speed\"] < 10]\n",
    "# Filter vacation with humidity below 60 %\n",
    "hotspot_retire = hotspot_slow_wind[hotspot_slow_wind[\"Humidity\"] < 60]\n",
    "# Set Index\n",
    "indexed_hotspot_retire = hotspot_retire.reset_index()\n",
    "del indexed_hotspot_retire[\"index\"]\n",
    "indexed_hotspot_retire"
   ]
  },
  {
   "cell_type": "markdown",
   "metadata": {},
   "source": [
    "### Hotel Map\n",
    "* Store into variable named `hotel_df`.\n",
    "* Add a \"Hotel Name\" column to the DataFrame.\n",
    "* Set parameters to search for hotels with 5000 meters.\n",
    "* Hit the Google Places API for each city's coordinates.\n",
    "* Store the first Hotel result into the DataFrame.\n",
    "* Plot markers on top of the heatmap."
   ]
  },
  {
   "cell_type": "code",
   "execution_count": 6,
   "metadata": {},
   "outputs": [
    {
     "data": {
      "text/html": [
       "<div>\n",
       "<style scoped>\n",
       "    .dataframe tbody tr th:only-of-type {\n",
       "        vertical-align: middle;\n",
       "    }\n",
       "\n",
       "    .dataframe tbody tr th {\n",
       "        vertical-align: top;\n",
       "    }\n",
       "\n",
       "    .dataframe thead th {\n",
       "        text-align: right;\n",
       "    }\n",
       "</style>\n",
       "<table border=\"1\" class=\"dataframe\">\n",
       "  <thead>\n",
       "    <tr style=\"text-align: right;\">\n",
       "      <th></th>\n",
       "      <th>City</th>\n",
       "      <th>Cloudiness</th>\n",
       "      <th>Country</th>\n",
       "      <th>Date</th>\n",
       "      <th>Humidity</th>\n",
       "      <th>Lat</th>\n",
       "      <th>Lng</th>\n",
       "      <th>Max Temp</th>\n",
       "      <th>Wind Speed</th>\n",
       "      <th>Nearest Hotel</th>\n",
       "    </tr>\n",
       "  </thead>\n",
       "  <tbody>\n",
       "  </tbody>\n",
       "</table>\n",
       "</div>"
      ],
      "text/plain": [
       "Empty DataFrame\n",
       "Columns: [City, Cloudiness, Country, Date, Humidity, Lat, Lng, Max Temp, Wind Speed, Nearest Hotel]\n",
       "Index: []"
      ]
     },
     "execution_count": 6,
     "metadata": {},
     "output_type": "execute_result"
    }
   ],
   "source": [
    "# NOTE: Do not change any of the code in this cell\n",
    "\n",
    "# Using the template add the hotel marks to the heatmap\n",
    "hotels = []\n",
    "\n",
    "# Loop through narrowed down dataframe to get nearest hotel\n",
    "for city in range(len(indexed_hotspot_retire[\"City\"])):\n",
    "\n",
    "    lat = indexed_hotspot_retire.loc[city][\"Latitude\"]\n",
    "    lng = indexed_hotspot_retire.loc[city][\"Longitude\"]\n",
    "\n",
    "    city_coords = f\"{lat},{lng}\"\n",
    "\n",
    "    params = {\n",
    "        \"location\": city_coords, \n",
    "        \"types\": \"lodging\",\n",
    "        \"radius\": 5000,\n",
    "        \"key\": g_key\n",
    "    }\n",
    "\n",
    "    base_url = \"https://maps.googleapis.com/maps/api/place/nearbysearch/json\"   \n",
    "\n",
    "    hotel_request = requests.get(base_url, params=params)\n",
    "    hotel_response = hotel_request.json()\n",
    "\n",
    "    try:\n",
    "        hotels.append(hotel_response[\"results\"][0][\"name\"])\n",
    "    except:\n",
    "        hotels.append(\"Nearest hotel not found\")\n",
    "\n",
    "# Dataframe with nearest hotel\n",
    "indexed_hotspot_retire[\"Nearest Hotel\"] = hotels\n",
    "indexed_hotspot_retire"
   ]
  },
  {
   "cell_type": "code",
   "execution_count": 7,
   "metadata": {},
   "outputs": [],
   "source": [
    "info_box_template = \"\"\"\n",
    "<dl>\n",
    "<dt>Name</dt><dd>{Nearest Hotel}</dd>\n",
    "<dt>City</dt><dd>{City}</dd>\n",
    "<dt>Country</dt><dd>{Country}</dd>\n",
    "</dl>\n",
    "\"\"\"\n",
    "# Store the DataFrame Row\n",
    "# NOTE: be sure to update with your DataFrame name\n",
    "hotel_info = [info_box_template.format(**row) for index, row in indexed_hotspot_retire.iterrows()]\n",
    "locations = indexed_hotspot_retire[[\"Lat\", \"Lng\"]]"
   ]
  },
  {
   "cell_type": "code",
   "execution_count": 91,
   "metadata": {},
   "outputs": [
    {
     "data": {
      "application/vnd.jupyter.widget-view+json": {
       "model_id": "9ab7d79aeeb543168b189e35f938a607",
       "version_major": 2,
       "version_minor": 0
      },
      "text/plain": [
       "Figure(layout=FigureLayout(height='420px'))"
      ]
     },
     "metadata": {},
     "output_type": "display_data"
    }
   ],
   "source": [
    "# Add marker layer ontop of heat map\n",
    "markers = gmaps.marker_layer(locations, info_box_content= [f\"Nearest Hotel: {hotel}\" for hotel in hotels])\n",
    "figdata.add_layer(markers)\n",
    "\n",
    "# Display Map\n",
    "figdata"
   ]
  }
 ],
 "metadata": {
  "kernelspec": {
   "display_name": "Python 3",
   "language": "python",
   "name": "python3"
  },
  "language_info": {
   "codemirror_mode": {
    "name": "ipython",
    "version": 3
   },
   "file_extension": ".py",
   "mimetype": "text/x-python",
   "name": "python",
   "nbconvert_exporter": "python",
   "pygments_lexer": "ipython3",
   "version": "3.8.5"
  },
  "latex_envs": {
   "LaTeX_envs_menu_present": true,
   "autoclose": false,
   "autocomplete": true,
   "bibliofile": "biblio.bib",
   "cite_by": "apalike",
   "current_citInitial": 1,
   "eqLabelWithNumbers": true,
   "eqNumInitial": 1,
   "hotkeys": {
    "equation": "Ctrl-E",
    "itemize": "Ctrl-I"
   },
   "labels_anchors": false,
   "latex_user_defs": false,
   "report_style_numbering": false,
   "user_envs_cfg": false
  }
 },
 "nbformat": 4,
 "nbformat_minor": 4
}
